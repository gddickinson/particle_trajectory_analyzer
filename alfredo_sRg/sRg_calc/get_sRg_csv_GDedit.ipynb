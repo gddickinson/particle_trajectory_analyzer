{
 "cells": [
  {
   "cell_type": "code",
   "execution_count": 68,
   "id": "92fdeaa4-298d-4484-8628-6a5a407e3909",
   "metadata": {
    "tags": []
   },
   "outputs": [],
   "source": [
    "#collection of functions to compute trajectory features\n",
    "source('featuresCalcsNew.R')"
   ]
  },
  {
   "cell_type": "code",
   "execution_count": 70,
   "id": "03350618-dfe1-4e34-89fa-d07316b61b82",
   "metadata": {
    "tags": []
   },
   "outputs": [],
   "source": [
    "#minimum traj length\n",
    "cutoffLen<-3\n",
    "#immobile/mobile threshold\n",
    "cutoff=2.22236433588659"
   ]
  },
  {
   "cell_type": "code",
   "execution_count": 72,
   "id": "05cda4df-2ad7-4b8d-83d1-147b7eb9ace8",
   "metadata": {
    "tags": []
   },
   "outputs": [],
   "source": [
    "theFileName<-\"/Users/george/Desktop/sRg_calc_csv/GB_165_2022_03_01_HTEndothelial_NonBapta_plate1_2_MMStack_Default_bin10_locsID_tracks_forR.csv\""
   ]
  },
  {
   "cell_type": "code",
   "execution_count": 74,
   "id": "4ae19988-6a68-4abf-83ab-4ae9506917aa",
   "metadata": {
    "tags": []
   },
   "outputs": [],
   "source": [
    "df<-read.csv(theFileName,header = T)"
   ]
  },
  {
   "cell_type": "code",
   "execution_count": 76,
   "id": "349346cf-083f-43df-a120-96e2842acd1c",
   "metadata": {},
   "outputs": [],
   "source": [
    "# the csv file is assumed to have the following columns:\n",
    "#,track_number,frame,x,y,intensity,id,x [nm],y [nm]\n",
    "# the header is assumed to be present"
   ]
  },
  {
   "cell_type": "code",
   "execution_count": 80,
   "id": "a60779aa-ec59-4409-a368-8b09482b5a3d",
   "metadata": {
    "tags": []
   },
   "outputs": [],
   "source": [
    "#use split to parse frame,x,y by track_number\n",
    "things<-split(df[,c('frame','x','y')],df$track_number)"
   ]
  },
  {
   "cell_type": "code",
   "execution_count": null,
   "id": "74f31c5b-99ff-41c2-bee1-6ab4540f18e5",
   "metadata": {
    "tags": []
   },
   "outputs": [],
   "source": [
    "#check track lengths and select those above the length cutoff\n",
    "#sel has the counting indices\n",
    "lens<-sapply(things,nrow)\n",
    "sel<-which(lens>=cutoffLen)\n",
    "lsel<-length(sel)\n",
    "cat(paste(\"done reading\",theFileName,lsel,\"extracted of length >=\",cutoffLen,\"\\n\"))\n",
    "\n",
    "#takes the indices of the selected tracks and reconstructs the trajectory as an N-by-2 matrix\n",
    "#where N is the track length = frame_last - frame_first\n",
    "#missing points will result in NA entires in the trajectory matrix\n",
    "sRgL<-vector(mode=\"list\",length = lsel)\n",
    "\n",
    "#loop over the selected track indices\n",
    "for(i in seq_along(sel)) {\n",
    "        #\"raw\" data (a data frame)\n",
    "      mymat<-things[[sel[i]]]\n",
    "    #tmat is the trajectory matrix one is as described abov\n",
    "     tmat<-matrix(nrow=mymat[nrow(mymat),'frame']-mymat[1,'frame']+1,ncol=2)\n",
    "      tmat[mymat[,1]-mymat[1,1]+1,1]<-mymat[,2]\n",
    "      tmat[mymat[,1]-mymat[1,1]+1,2]<-mymat[,3]\n",
    "        #compute sRg for this trajectory\n",
    "      sRgL[[i]]<-getsRg(tmat)\n",
    "}\n",
    "sRg<-unlist(sRgL)"
   ]
  },
  {
   "cell_type": "code",
   "execution_count": 82,
   "id": "fe2ec1f8-c482-43a4-9cb3-92f41110027f",
   "metadata": {
    "tags": []
   },
   "outputs": [],
   "source": [
    "#threshold classification\n",
    "myclass<-ifelse(sRg<cutoff,'immobile','mobile')"
   ]
  },
  {
   "cell_type": "code",
   "execution_count": 84,
   "id": "e04acc72-d356-43b6-a53a-48455f1302b7",
   "metadata": {
    "tags": []
   },
   "outputs": [
    {
     "data": {
      "text/plain": [
       "myclass\n",
       "immobile   mobile \n",
       "    3119     1700 "
      ]
     },
     "metadata": {},
     "output_type": "display_data"
    }
   ],
   "source": [
    "table(myclass)"
   ]
  },
  {
   "cell_type": "code",
   "execution_count": 86,
   "id": "97f1adee-2601-456c-a3af-888da7251819",
   "metadata": {},
   "outputs": [],
   "source": [
    "# Create a data frame with track numbers, sRg values, and classifications\n",
    "sRg_data <- data.frame(track_number = sel, sRg = sRg, classification = myclass)\n"
   ]
  },
  {
   "cell_type": "code",
   "execution_count": 88,
   "id": "a1154b74-5d0b-467a-b689-9596878abb16",
   "metadata": {},
   "outputs": [],
   "source": [
    "# Merge the original data with the new sRg and classification data\n",
    "merged_df <- merge(df, sRg_data, by.x = \"track_number\", by.y = \"track_number\", all.x = TRUE)\n"
   ]
  },
  {
   "cell_type": "code",
   "execution_count": 90,
   "id": "664a0afd-95b7-4f19-a825-33de5ca465d1",
   "metadata": {},
   "outputs": [],
   "source": [
    "# Sort the dataframe to ensure it's in the original order\n",
    "merged_df <- merged_df[order(merged_df$track_number, merged_df$frame),]\n"
   ]
  },
  {
   "cell_type": "code",
   "execution_count": 92,
   "id": "24aaa512-a82f-4ed5-9902-a1199f3cc7cc",
   "metadata": {},
   "outputs": [],
   "source": [
    "# Create the new filename with '_sRg' tag\n",
    "new_filename <- sub(\"\\\\.csv$\", \"_sRg.csv\", theFileName)\n"
   ]
  },
  {
   "cell_type": "code",
   "execution_count": 94,
   "id": "47c44dc8-7ac8-4b62-b716-b6638e604940",
   "metadata": {},
   "outputs": [
    {
     "name": "stdout",
     "output_type": "stream",
     "text": [
      "New file saved as: /Users/george/Desktop/sRg_calc_csv/GB_165_2022_03_01_HTEndothelial_NonBapta_plate1_2_MMStack_Default_bin10_locsID_tracks_forR_sRg.csv \n"
     ]
    }
   ],
   "source": [
    "# Save the new CSV file\n",
    "write.csv(merged_df, file = new_filename, row.names = FALSE)\n",
    "\n",
    "cat(paste(\"New file saved as:\", new_filename, \"\\n\"))"
   ]
  },
  {
   "cell_type": "code",
   "execution_count": null,
   "id": "ce4cf66f-85ab-491b-8920-d47c7bb66f60",
   "metadata": {},
   "outputs": [],
   "source": []
  }
 ],
 "metadata": {
  "kernelspec": {
   "display_name": "R",
   "language": "R",
   "name": "ir"
  },
  "language_info": {
   "codemirror_mode": "r",
   "file_extension": ".r",
   "mimetype": "text/x-r-source",
   "name": "R",
   "pygments_lexer": "r",
   "version": "4.4.1"
  }
 },
 "nbformat": 4,
 "nbformat_minor": 5
}
